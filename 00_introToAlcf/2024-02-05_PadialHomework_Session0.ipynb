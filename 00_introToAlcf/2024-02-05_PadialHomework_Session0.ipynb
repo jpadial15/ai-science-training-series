{
 "cells": [
  {
   "cell_type": "code",
   "execution_count": 1,
   "id": "23c59d17-6992-4734-83e8-6d0ecc965862",
   "metadata": {},
   "outputs": [],
   "source": [
    "import os, sys"
   ]
  },
  {
   "cell_type": "code",
   "execution_count": 2,
   "id": "329bcf57-3b8b-4144-985d-ed2dac111a6f",
   "metadata": {},
   "outputs": [
    {
     "name": "stdout",
     "output_type": "stream",
     "text": [
      "testing ... \n"
     ]
    }
   ],
   "source": [
    "print('testing ... ')"
   ]
  },
  {
   "cell_type": "code",
   "execution_count": null,
   "id": "3a69d80f-8174-45cf-8440-af5cda61e82c",
   "metadata": {},
   "outputs": [],
   "source": []
  }
 ],
 "metadata": {
  "kernelspec": {
   "display_name": "Python 3 (ipykernel)",
   "language": "python",
   "name": "python3"
  },
  "language_info": {
   "codemirror_mode": {
    "name": "ipython",
    "version": 3
   },
   "file_extension": ".py",
   "mimetype": "text/x-python",
   "name": "python",
   "nbconvert_exporter": "python",
   "pygments_lexer": "ipython3",
   "version": "3.9.15"
  }
 },
 "nbformat": 4,
 "nbformat_minor": 5
}
